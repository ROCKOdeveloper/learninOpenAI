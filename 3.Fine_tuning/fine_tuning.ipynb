{
 "cells": [
  {
   "attachments": {},
   "cell_type": "markdown",
   "metadata": {},
   "source": [
    "## Fine tuning\n",
    "Es una técnica que nos permite mejorar un modelo pre-entrenado al entrenarlo con datos específicos de nuestro problema, lo cual nos brinda resultados más precisos y eficientes en tareas específicas sin tener que empezar desde cero.\n",
    "\n",
    "Es útil cuando se quiere aprovechar un modelo pre-entrenado existente para una tarea específica, especialmente en situaciones con pocos datos o dominios especializados. Permite transferir conocimientos generales y adaptarlos a la tarea en cuestión, mejorando así el rendimiento y la eficiencia del modelo.\n",
    "\n",
    "Está disponible en los siguientes modelos básicos: davinci, curie, babbagey y ada. Estos son los modelos originales que no tienen ninguna instrucción posterior al entrenamiento (como text-davinci-003 por ejemplo). \n",
    "\n",
    "### Realizaremos tres simples pasos claves \n",
    "- Preparar y cargar datos de entrenamiento\n",
    "- Entrena un nuevo modelo perfeccionado\n",
    "- Usa tu modelo afinado"
   ]
  },
  {
   "attachments": {},
   "cell_type": "markdown",
   "metadata": {},
   "source": [
    "#### 0. Entes de comenzar\n",
    "hay que tener nuestra api-key en una variable de ambiente\n",
    "en la terminal\n",
    "\n",
    "> export OPENAI_API_KEY=\"<API_KEY_DE_HOLLMAN>\" "
   ]
  },
  {
   "attachments": {},
   "cell_type": "markdown",
   "metadata": {},
   "source": [
    "#### 1. Preparamos y cargamos datos de entrenamiento \n",
    "\n",
    "Desde la consola, nos ubicamos en la carpeta del proyecto y ejecutamos el siguiente comando para convertir el Set de datos en un documento .jsonl  \n",
    "\n",
    "> <RUTA_DEL_PROYECTO> openai tools fine_tunes.prepare_data -f <ARCHIVO_A_CONVERTIR> \n"
   ]
  },
  {
   "attachments": {},
   "cell_type": "markdown",
   "metadata": {},
   "source": [
    "##### Con el archivo convertido \n",
    "___________________________\n",
    "Wrote modified file to `hayku_prepared.jsonl`\n",
    "Feel free to take a look!\n",
    "\n",
    "Now use that file when fine-tuning:\n",
    "> openai api fine_tunes.create -t \"hayku_prepared.jsonl\"\n",
    "\n",
    "After you’ve fine-tuned a model, remember that your prompt has to end with the indicator string `\\nResp:` for the model to start generating completions, rather than continuing with the prompt. Make sure to include `stop=[\" END\"]` so that the generated texts ends at the expected place.\n",
    "Once your model starts training, it'll approximately take 3.02 minutes to train a `curie` model, and less for `ada` and `babbage`. Queue will approximately take half an hour per job ahead of you.\n",
    "____________________________\n",
    "\n",
    "[En español]\n",
    "\n",
    "Se ha guardado el archivo modificado en `hayku_prepared.jsonl`\n",
    "¡Siéntete libre de echarle un vistazo!\n",
    "\n",
    "Ahora utiliza ese archivo para el ajuste fino:\n",
    "> openai api fine_tunes.create -t \"hayku_prepared.jsonl\"\n",
    "\n",
    "Después de ajustar finamente un modelo, recuerda que tu indicador de inicio de la solicitud debe terminar con la cadena `\\nResp:` para que el modelo comience a generar completaciones en lugar de continuar con la solicitud. Asegúrate de incluir `stop=[\" END\"]` para que el texto generado termine en el lugar esperado.\n",
    "Una vez que tu modelo comienza a entrenar, aproximadamente tardará 3,02 minutos entrenar un modelo `curie`, y menos para `ada` y `babbage`. La cola tomará aproximadamente media hora por cada trabajo que esté delante de ti."
   ]
  },
  {
   "attachments": {},
   "cell_type": "markdown",
   "metadata": {},
   "source": [
    "#### 2. Entrenamos un nuevo modelo perfeccionado \n",
    "\n",
    "Desde la consola, nos ubicamos en la carpeta del proyecto y ejecutamos el siguiente comando para elegir el modelo\n",
    "\n",
    "> openai api fine_tunes.create -t \"hayku_prepared.jsonl\" -m <MODELO_PARA_ENTRENAR> "
   ]
  },
  {
   "attachments": {},
   "cell_type": "markdown",
   "metadata": {},
   "source": [
    "###### Proceso de entrenamiento \n",
    "\n",
    "___________________________________\n",
    "Upload progress: 100%|█| 5.49k/5.49k [00:00<00:00, 4.44Mit/s]\n",
    "\n",
    "Uploaded file from hayku_prepared.jsonl: file-O1TO3Eg36gZNJ87zf8da5eQg\n",
    "\n",
    "Created fine-tune: ft-9BBhEKA3ewevYL9cPIT5h5a5\n",
    "\n",
    "Streaming events until fine-tuning is complete...\n",
    "\n",
    "(Ctrl-C will interrupt the stream, but not cancel the fine-tune)\n",
    "[2023-05-22 15:04:15] Created fine-tune: ft-9BBhEKA3ewevYL9cPIT5h5a5\n",
    "\n",
    "Stream interrupted (client disconnected).\n",
    "To resume the stream, run:\n",
    "\n",
    "> openai api fine_tunes.follow -i ft-9BBhEKA3ewevYL9cPIT5h5a5\n",
    "______________________\n",
    "\n",
    "[En español]\n",
    "\n",
    "Progreso de la subida: 100%|█| 5.49k/5.49k [00:00<00:00, 4.44Mit/s]\n",
    "\n",
    "Archivo subido de hayku_prepared.jsonl: file-O1TO3Eg36gZNJ87zf8da5eQg\n",
    "\n",
    "Creado ajuste fino: ft-9BBhEKA3ewevYL9cPIT5h5a5\n",
    "\n",
    "Transmitiendo eventos hasta que se complete el ajuste fino...\n",
    "\n",
    "(Ctrl-C interrumpirá el flujo, pero no cancelará el ajuste fino)\n",
    "[2023-05-22 15:04:15] Creado ajuste fino: ft-9BBhEKA3ewevYL9cPIT5h5a5\n",
    "\n",
    "Flujo interrumpido (cliente desconectado).\n",
    "Para reanudar el flujo, ejecute\n",
    "\n",
    "> openai api fine_tunes.follow -i ft-9BBhEKA3ewevYL9cPIT5h5a5"
   ]
  },
  {
   "attachments": {},
   "cell_type": "markdown",
   "metadata": {},
   "source": [
    "##### despues de continuar el entrenamiento veriamos algo así\n",
    "\n",
    "____________________________\n",
    "[2023-05-22 15:04:15] Created fine-tune: ft-9BBhEKA3ewevYL9cPIT5h5a5\n",
    "\n",
    "[2023-05-22 15:06:46] Fine-tune costs $0.00\n",
    "\n",
    "[2023-05-22 15:06:46] Fine-tune enqueued. Queue number: 0\n",
    "\n",
    "[2023-05-22 15:06:49] Fine-tune started\n",
    "\n",
    "[2023-05-22 15:07:09] Completed epoch 1/4\n",
    "\n",
    "[2023-05-22 15:07:15] Completed epoch 2/4\n",
    "\n",
    "[2023-05-22 15:07:21] Completed epoch 3/4\n",
    "\n",
    "[2023-05-22 15:07:28] Completed epoch 4/4\n",
    "\n",
    "[2023-05-22 15:07:51] Uploaded model: ada:ft-studybot-2023-05-22-20-07-51\n",
    "\n",
    "[2023-05-22 15:07:52] Uploaded result file: file-N2pCupgUChZun0chC4sm8fHU\n",
    "\n",
    "[2023-05-22 15:07:52] Fine-tune succeeded\n",
    "\n",
    "Job complete! Status: succeeded 🎉\n",
    "Try out your fine-tuned model:\n",
    "\n",
    "openai api completions.create -m ada:ft-studybot-2023-05-22-20-07-51 -p <YOUR_PROMPT>\n",
    "_________________________________\n",
    "\n",
    "[En español]\n",
    "\n",
    "[2023-05-22 15:04:15] Creado ajuste: ft-9BBhEKA3ewevYL9cPIT5h5a5\n",
    "\n",
    "[2023-05-22 15:06:46] El ajuste fino cuesta $0.00\n",
    "\n",
    "[2023-05-22 15:06:46] Puesta a punto en cola. Número de cola: 0\n",
    "\n",
    "[2023-05-22 15:06:49] Puesta a punto iniciada\n",
    "\n",
    "[2023-05-22 15:07:09] Época completada 1/4\n",
    "\n",
    "[2023-05-22 15:07:15] Época 2/4 completada\n",
    "\n",
    "[2023-05-22 15:07:21] Época 3/4 completada\n",
    "\n",
    "[2023-05-22 15:07:28] Época 4/4 completada\n",
    "\n",
    "[2023-05-22 15:07:51] Modelo subido: ada:ft-studybot-2023-05-22-20-07-51\n",
    "\n",
    "[2023-05-22 15:07:52] Archivo de resultados cargado: file-N2pCupgUChZun0chC4sm8fHU\n",
    "\n",
    "[2023-05-22 15:07:52] Puesta a punto realizada con éxito\n",
    "\n",
    "¡Trabajo completado! Estado: correcto 🎉\n",
    "Pruebe su modelo afinado:\n",
    "\n",
    "openai api completions.create -m ada:ft-studybot-2023-05-22-20-07-51 -p <TU_PROMPT>\n"
   ]
  },
  {
   "attachments": {},
   "cell_type": "markdown",
   "metadata": {},
   "source": [
    "#### 3. Usamos nuestro modelo tuneado "
   ]
  },
  {
   "attachments": {},
   "cell_type": "markdown",
   "metadata": {},
   "source": [
    "podemos utilizar el modelo tuneado solo escribendo \n",
    "\n",
    "> openai api completions.create -m ada:ft-studybot-2023-05-22-20-07-51 -p <YOUR_PROMPT> \n",
    "\n",
    "pero en este ejemplo nos dirigimos a https://platform.openai.com/playground \n",
    "\n",
    "escogiendo la "
   ]
  }
 ],
 "metadata": {
  "kernelspec": {
   "display_name": "Python 3",
   "language": "python",
   "name": "python3"
  },
  "language_info": {
   "codemirror_mode": {
    "name": "ipython",
    "version": 3
   },
   "file_extension": ".py",
   "mimetype": "text/x-python",
   "name": "python",
   "nbconvert_exporter": "python",
   "pygments_lexer": "ipython3",
   "version": "3.11.3"
  },
  "orig_nbformat": 4
 },
 "nbformat": 4,
 "nbformat_minor": 2
}
